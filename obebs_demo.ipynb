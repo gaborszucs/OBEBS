{
 "cells": [
  {
   "cell_type": "code",
   "execution_count": null,
   "metadata": {
    "collapsed": true
   },
   "outputs": [],
   "source": [
    "import numpy as np\n",
    "import time\n",
    "from importlib import reload\n",
    "import nbimporter\n",
    "import obebs_func\n",
    "reload(obebs_func)\n",
    "\n",
    "###############################################################################################################################\n",
    "# load MNIST data \n",
    "###############################################################################################################################\n",
    "\n",
    "cnum = 10\n",
    "cluster_centers = np.loadtxt('obebs_data/cluster_centers.txt', dtype=np.float64)\n",
    "Q = np.loadtxt('obebs_data/Q.txt', dtype=np.float64)\n",
    "labels = np.loadtxt('obebs_data/labels.txt', dtype=np.int32)\n",
    "X_pool = np.loadtxt('obebs_data/X_pool.txt', dtype=np.float64)\n",
    "Y_pool = np.loadtxt('obebs_data/Y_pool.txt', dtype=np.int32)\n",
    "\n",
    "###############################################################################################################################\n",
    "# RUN OBEBS\n",
    "###############################################################################################################################\n",
    "\n",
    "iternum = 100\n",
    "tt = time.time()\n",
    "X_train = []\n",
    "Y_train = []\n",
    "labels_train = []\n",
    "accuracy = []\n",
    "entropy_list = []\n",
    "optimal_entropy_list = []\n",
    "Diff_t = 0\n",
    "LBE = []\n",
    "adaptive_reset = 0\n",
    "adaptive_threshold = 3\n",
    "MID = None\n",
    "for i in range(iternum):\n",
    "    TP = FP = FN = TN = 0\n",
    "    predictions = []\n",
    "    divide_flag = False\n",
    "    adaptive_reset -= 1\n",
    "    if (adaptive_reset < 1) and (len(X_train) > 20):\n",
    "        for iii in range(cnum-1):\n",
    "            for jjj in range(iii+1,cnum):\n",
    "                if abs(X_train[Y_train == iii,:].shape[0] - X_train[Y_train == jjj,:].shape[0]) > adaptive_threshold:\n",
    "                    divide_flag = True\n",
    "                    break\n",
    "        if divide_flag:\n",
    "            print('Running adaptive assignment!')\n",
    "            buckets = np.zeros(cnum)\n",
    "            for iii in range(cnum):\n",
    "                buckets[iii] = X_train[Y_train == iii,:].shape[0]\n",
    "            labels,labels_train,Q,MID = obebs_func.adaptive_assignment(cnum,labels,labels_train,X_pool,X_train,Y_train,Q,costMX,MID)\n",
    "            adaptive_reset = cnum*(adaptive_threshold-1)\n",
    "    if len(X_train) > 0:\n",
    "        costMX = obebs_func.get_costMX(Y_train, labels_train, cnum)\n",
    "        A = obebs_func.hun_algo(costMX)\n",
    "        P = np.matmul(Q,A)\n",
    "    else:\n",
    "        P = Q\n",
    "    for j in range(P.shape[0]):\n",
    "        predictions.append(np.argmax(P[j,:]))\n",
    "    accuracy.append(sum(predictions==Y_pool)/len(Y_pool))\n",
    "    X_train,Y_train,X_pool,Y_pool,labels,labels_train,maxIdx,metric = obebs_func.OBEBS(X_train,Y_train,X_pool,Y_pool,P,labels,labels_train,cnum)\n",
    "    Q = np.delete(Q, maxIdx, axis=0)\n",
    "    Diff_t += obebs_func.Diff_t_(cnum, X_train, Y_train)\n",
    "    LBE.append((Diff_t - (i+1) + int((i+1)/cnum))/(i+1))\n",
    "    entropy_list.append(obebs_func.calculate_entropy(X_train, Y_train, cnum))\n",
    "    optimal_entropy_list.append(obebs_func.calculate_optimal_entropy(X_train, Y_train, cnum))\n",
    "    print(i, end = ' ')\n",
    "print('Test time: ', time.time()-tt)"
   ]
  },
  {
   "cell_type": "code",
   "execution_count": null,
   "metadata": {
    "collapsed": true
   },
   "outputs": [],
   "source": [
    "%matplotlib inline\n",
    "import matplotlib.pyplot as plt\n",
    "\n",
    "plt.hist(Y_train+1) # Y_train = list of true labels of the queried items\n",
    "plt.title(\"Bucket distribution\") \n",
    "plt.show()"
   ]
  }
 ],
 "metadata": {
  "kernelspec": {
   "display_name": "Python 3",
   "language": "python",
   "name": "python3"
  },
  "language_info": {
   "codemirror_mode": {
    "name": "ipython",
    "version": 3
   },
   "file_extension": ".py",
   "mimetype": "text/x-python",
   "name": "python",
   "nbconvert_exporter": "python",
   "pygments_lexer": "ipython3",
   "version": "3.6.3"
  }
 },
 "nbformat": 4,
 "nbformat_minor": 2
}
